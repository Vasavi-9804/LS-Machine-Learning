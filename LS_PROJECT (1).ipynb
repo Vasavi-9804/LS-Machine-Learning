{
  "cells": [
    {
      "cell_type": "code",
      "execution_count": null,
      "metadata": {
        "id": "BLvDHTWgwzYa"
      },
      "outputs": [],
      "source": [
        "import tensorflow as tf\n",
        "from tensorflow.keras.layers import Dense,Flatten,Conv2D,MaxPooling2D\n",
        "from tensorflow.keras import Input\n",
        "import matplotlib.pyplot as plt\n",
        "import pandas as pd\n",
        "import os\n",
        "import numpy as np"
      ]
    },
    {
      "cell_type": "code",
      "execution_count": null,
      "metadata": {
        "colab": {
          "base_uri": "https://localhost:8080/"
        },
        "id": "cwjUGnwjhxyE",
        "outputId": "56a72099-68e7-4bc0-b41d-bdf8f3c1f692"
      },
      "outputs": [
        {
          "name": "stdout",
          "output_type": "stream",
          "text": [
            "Mounted at /content/drive\n"
          ]
        }
      ],
      "source": [
        "from google.colab import drive\n",
        "drive.mount('/content/drive')"
      ]
    },
    {
      "cell_type": "code",
      "execution_count": null,
      "metadata": {
        "id": "VLq-h1Fj6ldm"
      },
      "outputs": [],
      "source": [
        "df = pd.read_excel('/content/drive/MyDrive/LS - Project/KCDH2024_Training_GroundTruth.xlsx')\n"
      ]
    },
    {
      "cell_type": "code",
      "execution_count": 28,
      "metadata": {
        "id": "jzR-6wm5E4pm"
      },
      "outputs": [],
      "source": [
        "labels_dict = {}\n",
        "\n",
        "label_columns = ['MEL', 'NV', 'BCC', 'AKIEC', 'BKL', 'DF', 'VASC']\n",
        "df[label_columns] = df[label_columns].apply(pd.to_numeric,errors='coerce')\n",
        "for column in label_columns:\n",
        "    df[column] = pd.to_numeric(df[column])\n",
        "for index, row in df.iterrows():\n",
        "    image_name = row['image']\n",
        "    count=0\n",
        "    for l in label_columns:\n",
        "      count+=1\n",
        "      if row[l] == 1:\n",
        "        label_index = count\n",
        "        break\n",
        "    labels_dict[image_name] = str(label_index)"
      ]
    },
    {
      "cell_type": "code",
      "execution_count": 15,
      "metadata": {
        "id": "qUdJokcvHlDO"
      },
      "outputs": [],
      "source": [
        "base_direc_train = './drive/MyDrive/LS - Project/Train_Images'\n",
        "for grp in label_columns:\n",
        "  os.makedirs(os.path.join(base_direc_train, grp), exist_ok=True)\n",
        "images_folder_path = './drive/MyDrive/LS - Project/HAM10000_images_train'\n",
        "for image_name, label in labels_dict.items():\n",
        "  source_path = os.path.join(images_folder_path, image_name + '.jpg')\n",
        "  destination_path = os.path.join(base_direc_train, str(label), image_name + '.jpg')\n",
        "  if os.path.exists(source_path):\n",
        "    os.rename(source_path,destination_path)\n"
      ]
    },
    {
      "cell_type": "code",
      "execution_count": 57,
      "metadata": {
        "id": "jlcwR4-dJcoV",
        "colab": {
          "base_uri": "https://localhost:8080/"
        },
        "outputId": "8c293b94-e4ab-405f-d116-8c499d47f30c"
      },
      "outputs": [
        {
          "output_type": "stream",
          "name": "stdout",
          "text": [
            "Found 9305 files belonging to 7 classes.\n"
          ]
        }
      ],
      "source": [
        "data=tf.keras.preprocessing.image_dataset_from_directory(base_direc_train,image_size=(128, 128),label_mode = \"int\")\n",
        "data=data.map(lambda x,y : (x / 255.0, y))\n",
        "x_train = data;\n"
      ]
    },
    {
      "cell_type": "code",
      "source": [
        "df_2 = pd.read_excel('/content/drive/MyDrive/LS - Project/KCDH2024_Test_GroundTruth.xlsx')"
      ],
      "metadata": {
        "id": "5y1OmlgyscuW"
      },
      "execution_count": 29,
      "outputs": []
    },
    {
      "cell_type": "code",
      "source": [
        "labels_dict_2={}\n",
        "df_2[label_columns] = df_2[label_columns].apply(pd.to_numeric,errors='coerce')\n",
        "for index, row in df_2.iterrows():\n",
        "    image_name = row['image']\n",
        "    for l in label_columns:\n",
        "      if row[l] == 1:\n",
        "        label_index = l\n",
        "        break\n",
        "    labels_dict_2[image_name] = str(label_index)\n"
      ],
      "metadata": {
        "id": "N_zJ0zH2tfmB"
      },
      "execution_count": 35,
      "outputs": []
    },
    {
      "cell_type": "code",
      "execution_count": 38,
      "metadata": {
        "id": "PVGpXX2cR8gc"
      },
      "outputs": [],
      "source": [
        "base_direc_test = './drive/MyDrive/LS - Project/Test_Images'\n",
        "for grp in label_columns:\n",
        "  os.makedirs(os.path.join(base_direc_test, grp), exist_ok=True)\n",
        "images_folder_path_test = '/content/drive/MyDrive/LS - Project/KCDH2024_Test_Input/KCDH2024_Test_Input'\n",
        "for image_name, label in labels_dict_2.items():\n",
        "  source_path = os.path.join(images_folder_path_test, image_name + '.jpg')\n",
        "  destination_path = os.path.join(base_direc_test, label, image_name + '.jpg')\n",
        "  if os.path.exists(source_path):\n",
        "    os.rename(source_path,destination_path)"
      ]
    },
    {
      "cell_type": "code",
      "execution_count": 39,
      "metadata": {
        "id": "V122ZwP7Sehy",
        "colab": {
          "base_uri": "https://localhost:8080/"
        },
        "outputId": "c24de3d2-cfc6-44c1-8b1b-b3a9adf2513a"
      },
      "outputs": [
        {
          "output_type": "stream",
          "name": "stdout",
          "text": [
            "Found 1350 files belonging to 7 classes.\n"
          ]
        }
      ],
      "source": [
        "data_2= tf.keras.preprocessing.image_dataset_from_directory(base_direc_test,image_size=(128, 128),label_mode = \"int\")\n",
        "data_2=data_2.map(lambda x,y : (x / 255.0, y))\n",
        "x_test = data_2;"
      ]
    },
    {
      "cell_type": "code",
      "execution_count": 56,
      "metadata": {
        "id": "iAVG2qNgJ6W_"
      },
      "outputs": [],
      "source": [
        "model =tf.keras.Sequential([\n",
        "    Conv2D(32, (3, 3), activation='relu', input_shape=(128,128, 3)),\n",
        "    MaxPooling2D((2, 2)),\n",
        "    Conv2D(64, (3, 3), activation='relu'),\n",
        "    MaxPooling2D((2, 2)),\n",
        "    Conv2D(128, (3, 3), activation='relu'),\n",
        "    MaxPooling2D((2, 2)),\n",
        "    Flatten(),\n",
        "    Dense(512, activation='relu'),\n",
        "    Dense(1, activation='softmax')\n",
        "])"
      ]
    },
    {
      "cell_type": "code",
      "execution_count": 51,
      "metadata": {
        "id": "aWfQX8OgNeN-"
      },
      "outputs": [],
      "source": [
        "class MeanAveragePrecision(tf.keras.metrics.Metric):\n",
        "    def __init__(self, name='mean_average_precision', **kwargs):\n",
        "        super(MeanAveragePrecision, self).__init__(name=name, **kwargs)\n",
        "        self.precisions = self.add_weight(name='precisions', initializer='zeros')\n",
        "        self.count = self.add_weight(name='count', initializer='zeros')\n",
        "\n",
        "    def update_state(self, y_true, y_pred, sample_weight=None):\n",
        "        y_true = tf.cast(y_true, tf.int32).numpy()\n",
        "        y_pred = tf.cast(y_pred, tf.float32).numpy()\n",
        "\n",
        "        num_classes = y_pred.shape[1]\n",
        "        aps = []\n",
        "\n",
        "        for i in range(num_classes):\n",
        "            true_labels = (y_true == i).astype(int)\n",
        "            pred_scores = y_pred[:, i]\n",
        "\n",
        "            sorted_indices = np.argsort(-pred_scores)\n",
        "            true_labels_sorted = true_labels[sorted_indices]\n",
        "\n",
        "            cumsum = np.cumsum(true_labels_sorted)\n",
        "            precision = cumsum / (np.arange(len(true_labels_sorted)) + 1)\n",
        "            recall = cumsum / np.sum(true_labels_sorted)\n",
        "\n",
        "            ap = np.sum(precision * true_labels_sorted) / np.sum(true_labels_sorted)\n",
        "            aps.append(ap)\n",
        "\n",
        "        mean_ap = np.mean(aps)\n",
        "        self.precisions.assign(mean_ap)\n",
        "        self.count.assign_add(1)\n",
        "\n",
        "    def result(self):\n",
        "        return self.precisions\n",
        "\n",
        "    def reset_states(self):\n",
        "        self.precisions.assign(0)\n",
        "        self.count.assign(0)"
      ]
    },
    {
      "cell_type": "code",
      "execution_count": 59,
      "metadata": {
        "id": "ha-04by3LaxF"
      },
      "outputs": [],
      "source": [
        "model.compile(optimizer=tf.keras.optimizers.Adam(learning_rate=0.001),run_eagerly=True,\n",
        "              loss = tf.keras.losses.sparse_categorical_crossentropy, # use tf.keras.losses._______(from_logits = False)\n",
        "              metrics=['accuracy', tf.keras.metrics.AUC(), tf.keras.metrics.F1Score(),MeanAveragePrecision()])"
      ]
    },
    {
      "cell_type": "code",
      "execution_count": 61,
      "metadata": {
        "id": "NOnMD7AZQy5m",
        "colab": {
          "base_uri": "https://localhost:8080/",
          "height": 408
        },
        "outputId": "0d88db02-006c-434a-c725-5cebbc1a166c"
      },
      "outputs": [
        {
          "output_type": "stream",
          "name": "stdout",
          "text": [
            "Epoch 1/12\n"
          ]
        },
        {
          "output_type": "error",
          "ename": "InvalidArgumentError",
          "evalue": "{{function_node __wrapped__SparseSoftmaxCrossEntropyWithLogits_device_/job:localhost/replica:0/task:0/device:CPU:0}} Received a label value of 5 which is outside the valid range of [0, 1).  Label values: 5 4 2 2 5 5 5 5 3 1 5 5 5 2 5 5 5 5 5 5 5 5 5 5 5 1 5 1 2 5 4 0 [Op:SparseSoftmaxCrossEntropyWithLogits] name: ",
          "traceback": [
            "\u001b[0;31m---------------------------------------------------------------------------\u001b[0m",
            "\u001b[0;31mInvalidArgumentError\u001b[0m                      Traceback (most recent call last)",
            "\u001b[0;32m<ipython-input-61-9ac880c5c495>\u001b[0m in \u001b[0;36m<cell line: 1>\u001b[0;34m()\u001b[0m\n\u001b[0;32m----> 1\u001b[0;31m \u001b[0mmodel\u001b[0m\u001b[0;34m.\u001b[0m\u001b[0mfit\u001b[0m\u001b[0;34m(\u001b[0m\u001b[0mx_train\u001b[0m\u001b[0;34m,\u001b[0m\u001b[0mepochs\u001b[0m \u001b[0;34m=\u001b[0m \u001b[0;36m12\u001b[0m\u001b[0;34m,\u001b[0m\u001b[0mbatch_size\u001b[0m\u001b[0;34m=\u001b[0m\u001b[0;36m32\u001b[0m\u001b[0;34m)\u001b[0m\u001b[0;34m\u001b[0m\u001b[0;34m\u001b[0m\u001b[0m\n\u001b[0m\u001b[1;32m      2\u001b[0m \u001b[0mresults\u001b[0m\u001b[0;34m=\u001b[0m\u001b[0mmodel\u001b[0m\u001b[0;34m.\u001b[0m\u001b[0mevaluate\u001b[0m\u001b[0;34m(\u001b[0m\u001b[0mx_test\u001b[0m\u001b[0;34m)\u001b[0m\u001b[0;34m\u001b[0m\u001b[0;34m\u001b[0m\u001b[0m\n\u001b[1;32m      3\u001b[0m \u001b[0mloss\u001b[0m \u001b[0;34m=\u001b[0m \u001b[0mresults\u001b[0m\u001b[0;34m[\u001b[0m\u001b[0;36m0\u001b[0m\u001b[0;34m]\u001b[0m\u001b[0;34m\u001b[0m\u001b[0;34m\u001b[0m\u001b[0m\n\u001b[1;32m      4\u001b[0m \u001b[0maccuracy\u001b[0m \u001b[0;34m=\u001b[0m \u001b[0mresults\u001b[0m\u001b[0;34m[\u001b[0m\u001b[0;36m1\u001b[0m\u001b[0;34m]\u001b[0m\u001b[0;34m\u001b[0m\u001b[0;34m\u001b[0m\u001b[0m\n\u001b[1;32m      5\u001b[0m \u001b[0mauc\u001b[0m \u001b[0;34m=\u001b[0m \u001b[0mresults\u001b[0m\u001b[0;34m[\u001b[0m\u001b[0;36m2\u001b[0m\u001b[0;34m]\u001b[0m\u001b[0;34m\u001b[0m\u001b[0;34m\u001b[0m\u001b[0m\n",
            "\u001b[0;32m/usr/local/lib/python3.10/dist-packages/keras/src/utils/traceback_utils.py\u001b[0m in \u001b[0;36merror_handler\u001b[0;34m(*args, **kwargs)\u001b[0m\n\u001b[1;32m     68\u001b[0m             \u001b[0;31m# To get the full stack trace, call:\u001b[0m\u001b[0;34m\u001b[0m\u001b[0;34m\u001b[0m\u001b[0m\n\u001b[1;32m     69\u001b[0m             \u001b[0;31m# `tf.debugging.disable_traceback_filtering()`\u001b[0m\u001b[0;34m\u001b[0m\u001b[0;34m\u001b[0m\u001b[0m\n\u001b[0;32m---> 70\u001b[0;31m             \u001b[0;32mraise\u001b[0m \u001b[0me\u001b[0m\u001b[0;34m.\u001b[0m\u001b[0mwith_traceback\u001b[0m\u001b[0;34m(\u001b[0m\u001b[0mfiltered_tb\u001b[0m\u001b[0;34m)\u001b[0m \u001b[0;32mfrom\u001b[0m \u001b[0;32mNone\u001b[0m\u001b[0;34m\u001b[0m\u001b[0;34m\u001b[0m\u001b[0m\n\u001b[0m\u001b[1;32m     71\u001b[0m         \u001b[0;32mfinally\u001b[0m\u001b[0;34m:\u001b[0m\u001b[0;34m\u001b[0m\u001b[0;34m\u001b[0m\u001b[0m\n\u001b[1;32m     72\u001b[0m             \u001b[0;32mdel\u001b[0m \u001b[0mfiltered_tb\u001b[0m\u001b[0;34m\u001b[0m\u001b[0;34m\u001b[0m\u001b[0m\n",
            "\u001b[0;32m/usr/local/lib/python3.10/dist-packages/keras/src/backend.py\u001b[0m in \u001b[0;36msparse_categorical_crossentropy\u001b[0;34m(target, output, from_logits, axis, ignore_class)\u001b[0m\n\u001b[1;32m   5777\u001b[0m             )\n\u001b[1;32m   5778\u001b[0m     \u001b[0;32melse\u001b[0m\u001b[0;34m:\u001b[0m\u001b[0;34m\u001b[0m\u001b[0;34m\u001b[0m\u001b[0m\n\u001b[0;32m-> 5779\u001b[0;31m         res = tf.nn.sparse_softmax_cross_entropy_with_logits(\n\u001b[0m\u001b[1;32m   5780\u001b[0m             \u001b[0mlabels\u001b[0m\u001b[0;34m=\u001b[0m\u001b[0mtarget\u001b[0m\u001b[0;34m,\u001b[0m \u001b[0mlogits\u001b[0m\u001b[0;34m=\u001b[0m\u001b[0moutput\u001b[0m\u001b[0;34m\u001b[0m\u001b[0;34m\u001b[0m\u001b[0m\n\u001b[1;32m   5781\u001b[0m         )\n",
            "\u001b[0;31mInvalidArgumentError\u001b[0m: {{function_node __wrapped__SparseSoftmaxCrossEntropyWithLogits_device_/job:localhost/replica:0/task:0/device:CPU:0}} Received a label value of 5 which is outside the valid range of [0, 1).  Label values: 5 4 2 2 5 5 5 5 3 1 5 5 5 2 5 5 5 5 5 5 5 5 5 5 5 1 5 1 2 5 4 0 [Op:SparseSoftmaxCrossEntropyWithLogits] name: "
          ]
        }
      ],
      "source": [
        "model.fit(x_train,epochs = 12,batch_size=32)\n",
        "results=model.evaluate(x_test)\n",
        "loss = results[0]\n",
        "accuracy = results[1]\n",
        "auc = results[2]\n",
        "f1_score = results[3]\n",
        "\n",
        "print(f\"Loss: {loss}\")\n",
        "print(f\"Accuracy: {accuracy}\")\n",
        "print(f\"AUC: {auc}\")\n",
        "print(f\"F1 Score: {f1_score}\")"
      ]
    }
  ],
  "metadata": {
    "colab": {
      "provenance": []
    },
    "kernelspec": {
      "display_name": "Python 3",
      "name": "python3"
    },
    "language_info": {
      "name": "python"
    }
  },
  "nbformat": 4,
  "nbformat_minor": 0
}